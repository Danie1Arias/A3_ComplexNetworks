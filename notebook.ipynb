{
 "cells": [
  {
   "cell_type": "markdown",
   "metadata": {},
   "source": [
    "# Epidemic spreading using the SIS model\n",
    "\n",
    "Monte Carlo simulation of an epidemic spreading dynamics in complex networks, using the SIS model in which each node represents an individual which can be in two possible states: Susceptible (S), i.e., healthy but can get infected; Infected (I), i.e., has the disease and can spread it to its neighbors.\n",
    "\n",
    "We are interested in the calculation of the fraction of infected nodes, ρ, in the stationary state, as a function of the infection probability of the disease λ (you can use values from λ=0 to λ=0.3 with Δλ=0.01), for two different values of the recovery probability μ (e.g. 0.2, 0.4). For each value of  μ, the students should use four different networks composed of 1000 nodes: Erdös-Rényi (ER) with <k>=4, ER with <k>=6, Barábasi-Albert (BA) with <k>=4 and BA with <k>=6. Ideally, the epidemic diagrams for the four networks should be represented in the same plot to allow comparisons between networks.\n",
    "\n",
    "Optionally (but mandatory if you want to opt to the maximum grade), compare the ρ(β) result from Monte Carlo simulations with the theoretical prediction provided by the Microscopic Markov Chain Approach (MMCA) model.\n",
    "\n",
    "Monte Carlo simulations may require a lot of computing time, thus it is recommended the use of compiled languages (e.g., Julia, C/C++, C#, Java). In general, and mainly if you are using interpreted languages (e.g., python, Matlab, octave, R), first make tests with small networks, a few time steps, and a few repetitions, before making the definitive simulations. You can adapt the code used in the lab to carry out this task or compute your code from scratch (details on how to implement the simulations for the SIS model are given in the attached document). If you decide to get inspiration from the code explained in the lab, please bear in mind that this code simulates SIR dynamics in well-mixed populations. This means that the code should be modified to change the SIR dynamics to a SIS dynamics and to incorporate the existence of a network driving the contagions. \n",
    "\n",
    "The delivery must include:\n",
    "\n",
    "- Source code\n",
    "\n",
    "- Networks used\n",
    "\n",
    "- Results files\n",
    "\n",
    "- Document (in PDF) including:\n",
    "    \n",
    "    - Short explanations on how have you done the required work (software, decisions, etc.)\n",
    "\n",
    "    - The plots indicated above, pointing out “all” the parameters of the corresponding simulation.\n",
    "    \n",
    "    - An explanation of the differences found between spreading dynamics in ER and BA networks.\n",
    "\n"
   ]
  }
 ],
 "metadata": {
  "language_info": {
   "name": "python"
  }
 },
 "nbformat": 4,
 "nbformat_minor": 2
}
